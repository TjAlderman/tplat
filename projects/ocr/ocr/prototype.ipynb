{
 "cells": [
  {
   "attachments": {},
   "cell_type": "markdown",
   "metadata": {},
   "source": [
    "PDF Page -> np.ndarray (image)"
   ]
  },
  {
   "cell_type": "code",
   "execution_count": 1,
   "metadata": {},
   "outputs": [],
   "source": [
    "import fitz  # PyMuPDF\n",
    "import numpy as np\n",
    "from PIL import Image\n",
    "from IPython.display import display\n",
    "import sys\n",
    "import os\n",
    "from pathlib import Path\n",
    "sys.path.append(str(Path(os.getcwd()).parent))"
   ]
  },
  {
   "cell_type": "code",
   "execution_count": 2,
   "metadata": {},
   "outputs": [
    {
     "data": {
      "text/plain": [
       "['/Users/timothyalder/Documents/tplat/projects/ocr/ocr',\n",
       " '/Users/timothyalder/opt/anaconda3/envs/ocr/lib/python310.zip',\n",
       " '/Users/timothyalder/opt/anaconda3/envs/ocr/lib/python3.10',\n",
       " '/Users/timothyalder/opt/anaconda3/envs/ocr/lib/python3.10/lib-dynload',\n",
       " '',\n",
       " '/Users/timothyalder/opt/anaconda3/envs/ocr/lib/python3.10/site-packages',\n",
       " '/Users/timothyalder/Documents/tplat/projects/ocr']"
      ]
     },
     "execution_count": 2,
     "metadata": {},
     "output_type": "execute_result"
    }
   ],
   "source": [
    "sys.path"
   ]
  },
  {
   "cell_type": "code",
   "execution_count": 15,
   "metadata": {},
   "outputs": [],
   "source": [
    "def extract_pdf_pages_as_images(pdf_file):\n",
    "    # Open the PDF file\n",
    "    pdf_document = fitz.open(pdf_file)\n",
    "    \n",
    "    # Initialize an empty list to store the images\n",
    "    images = []\n",
    "    \n",
    "    # Iterate over each page in the PDF\n",
    "    # for page_num in range(len(pdf_document)):\n",
    "    for page_num in range(5):\n",
    "        # Get the page\n",
    "        page = pdf_document.load_page(page_num)\n",
    "        \n",
    "        # Convert the page to a PIL Image object\n",
    "        pil_img = Image.frombytes(\"RGB\", [int(page.rect.width), int(page.rect.height)], page.get_pixmap().samples)\n",
    "        \n",
    "        # Add the PIL Image object to the list\n",
    "        images.append(pil_img)\n",
    "    \n",
    "    # Close the PDF document\n",
    "    pdf_document.close()\n",
    "    \n",
    "    return images"
   ]
  },
  {
   "cell_type": "code",
   "execution_count": 16,
   "metadata": {},
   "outputs": [
    {
     "ename": "TypeError",
     "evalue": "'float' object cannot be interpreted as an integer",
     "output_type": "error",
     "traceback": [
      "\u001b[0;31m---------------------------------------------------------------------------\u001b[0m",
      "\u001b[0;31mTypeError\u001b[0m                                 Traceback (most recent call last)",
      "Cell \u001b[0;32mIn[16], line 4\u001b[0m\n\u001b[1;32m      2\u001b[0m pdf_file \u001b[39m=\u001b[39m \u001b[39m\"\u001b[39m\u001b[39m/Users/timothyalder/Documents/tplat/projects/ocr/data/Basic-Economics-5th-Edition-Thomas-Sowell.pdf\u001b[39m\u001b[39m\"\u001b[39m\n\u001b[1;32m      3\u001b[0m \u001b[39m# pdf_file = \"data/Basic-Economics-5th-Edition-Thomas-Sowell.pdf\"\u001b[39;00m\n\u001b[0;32m----> 4\u001b[0m images \u001b[39m=\u001b[39m extract_pdf_pages_as_images(pdf_file)\n",
      "Cell \u001b[0;32mIn[15], line 15\u001b[0m, in \u001b[0;36mextract_pdf_pages_as_images\u001b[0;34m(pdf_file)\u001b[0m\n\u001b[1;32m     12\u001b[0m page \u001b[39m=\u001b[39m pdf_document\u001b[39m.\u001b[39mload_page(page_num)\n\u001b[1;32m     14\u001b[0m \u001b[39m# Convert the page to a PIL Image object\u001b[39;00m\n\u001b[0;32m---> 15\u001b[0m pil_img \u001b[39m=\u001b[39m Image\u001b[39m.\u001b[39;49mfrombytes(\u001b[39m\"\u001b[39;49m\u001b[39mRGB\u001b[39;49m\u001b[39m\"\u001b[39;49m, [page\u001b[39m.\u001b[39;49mrect\u001b[39m.\u001b[39;49mwidth, page\u001b[39m.\u001b[39;49mrect\u001b[39m.\u001b[39;49mheight], page\u001b[39m.\u001b[39;49mget_pixmap()\u001b[39m.\u001b[39;49msamples)\n\u001b[1;32m     17\u001b[0m \u001b[39m# Add the PIL Image object to the list\u001b[39;00m\n\u001b[1;32m     18\u001b[0m images\u001b[39m.\u001b[39mappend(pil_img)\n",
      "File \u001b[0;32m~/opt/anaconda3/envs/ocr/lib/python3.10/site-packages/PIL/Image.py:2970\u001b[0m, in \u001b[0;36mfrombytes\u001b[0;34m(mode, size, data, decoder_name, *args)\u001b[0m\n\u001b[1;32m   2945\u001b[0m \u001b[39m\u001b[39m\u001b[39m\"\"\"\u001b[39;00m\n\u001b[1;32m   2946\u001b[0m \u001b[39mCreates a copy of an image memory from pixel data in a buffer.\u001b[39;00m\n\u001b[1;32m   2947\u001b[0m \n\u001b[0;32m   (...)\u001b[0m\n\u001b[1;32m   2965\u001b[0m \u001b[39m:returns: An :py:class:`~PIL.Image.Image` object.\u001b[39;00m\n\u001b[1;32m   2966\u001b[0m \u001b[39m\"\"\"\u001b[39;00m\n\u001b[1;32m   2968\u001b[0m _check_size(size)\n\u001b[0;32m-> 2970\u001b[0m im \u001b[39m=\u001b[39m new(mode, size)\n\u001b[1;32m   2971\u001b[0m \u001b[39mif\u001b[39;00m im\u001b[39m.\u001b[39mwidth \u001b[39m!=\u001b[39m \u001b[39m0\u001b[39m \u001b[39mand\u001b[39;00m im\u001b[39m.\u001b[39mheight \u001b[39m!=\u001b[39m \u001b[39m0\u001b[39m:\n\u001b[1;32m   2972\u001b[0m     \u001b[39m# may pass tuple instead of argument list\u001b[39;00m\n\u001b[1;32m   2973\u001b[0m     \u001b[39mif\u001b[39;00m \u001b[39mlen\u001b[39m(args) \u001b[39m==\u001b[39m \u001b[39m1\u001b[39m \u001b[39mand\u001b[39;00m \u001b[39misinstance\u001b[39m(args[\u001b[39m0\u001b[39m], \u001b[39mtuple\u001b[39m):\n",
      "File \u001b[0;32m~/opt/anaconda3/envs/ocr/lib/python3.10/site-packages/PIL/Image.py:2941\u001b[0m, in \u001b[0;36mnew\u001b[0;34m(mode, size, color)\u001b[0m\n\u001b[1;32m   2939\u001b[0m     im\u001b[39m.\u001b[39mpalette \u001b[39m=\u001b[39m ImagePalette\u001b[39m.\u001b[39mImagePalette()\n\u001b[1;32m   2940\u001b[0m     color \u001b[39m=\u001b[39m im\u001b[39m.\u001b[39mpalette\u001b[39m.\u001b[39mgetcolor(color)\n\u001b[0;32m-> 2941\u001b[0m \u001b[39mreturn\u001b[39;00m im\u001b[39m.\u001b[39m_new(core\u001b[39m.\u001b[39;49mfill(mode, size, color))\n",
      "\u001b[0;31mTypeError\u001b[0m: 'float' object cannot be interpreted as an integer"
     ]
    }
   ],
   "source": [
    "# Example usage\n",
    "pdf_file = \"/Users/timothyalder/Documents/tplat/projects/ocr/data/Basic-Economics-5th-Edition-Thomas-Sowell.pdf\"\n",
    "# pdf_file = \"data/Basic-Economics-5th-Edition-Thomas-Sowell.pdf\"\n",
    "images = extract_pdf_pages_as_images(pdf_file)"
   ]
  },
  {
   "cell_type": "code",
   "execution_count": 9,
   "metadata": {},
   "outputs": [
    {
     "data": {
      "text/plain": [
       "array([[[255, 255, 255],\n",
       "        [255, 255, 255],\n",
       "        [255, 255, 255],\n",
       "        ...,\n",
       "        [255, 255, 255],\n",
       "        [255, 255, 255],\n",
       "        [255, 255, 255]],\n",
       "\n",
       "       [[255, 255, 255],\n",
       "        [255, 255, 255],\n",
       "        [255, 255, 255],\n",
       "        ...,\n",
       "        [255, 255, 255],\n",
       "        [255, 255, 255],\n",
       "        [255, 255, 255]],\n",
       "\n",
       "       [[255, 255, 255],\n",
       "        [255, 255, 255],\n",
       "        [255, 255, 255],\n",
       "        ...,\n",
       "        [255, 255, 255],\n",
       "        [255, 255, 255],\n",
       "        [255, 255, 255]],\n",
       "\n",
       "       ...,\n",
       "\n",
       "       [[255, 255, 255],\n",
       "        [255, 255, 255],\n",
       "        [255, 255, 255],\n",
       "        ...,\n",
       "        [255, 255, 255],\n",
       "        [255, 255, 255],\n",
       "        [255, 255, 255]],\n",
       "\n",
       "       [[255, 255, 255],\n",
       "        [255, 255, 255],\n",
       "        [255, 255, 255],\n",
       "        ...,\n",
       "        [255, 255, 255],\n",
       "        [255, 255, 255],\n",
       "        [255, 255, 255]],\n",
       "\n",
       "       [[255, 255, 255],\n",
       "        [255, 255, 255],\n",
       "        [255, 255, 255],\n",
       "        ...,\n",
       "        [255, 255, 255],\n",
       "        [255, 255, 255],\n",
       "        [255, 255, 255]]], dtype=uint8)"
      ]
     },
     "metadata": {},
     "output_type": "display_data"
    }
   ],
   "source": [
    "im = images[4]\n",
    "display(im)"
   ]
  },
  {
   "attachments": {},
   "cell_type": "markdown",
   "metadata": {},
   "source": [
    "np.ndarray (image) -> str"
   ]
  },
  {
   "cell_type": "code",
   "execution_count": 6,
   "metadata": {},
   "outputs": [],
   "source": [
    "from PIL import Image\n",
    "import pytesseract"
   ]
  },
  {
   "cell_type": "code",
   "execution_count": null,
   "metadata": {},
   "outputs": [],
   "source": []
  }
 ],
 "metadata": {
  "kernelspec": {
   "display_name": "ocr",
   "language": "python",
   "name": "python3"
  },
  "language_info": {
   "codemirror_mode": {
    "name": "ipython",
    "version": 3
   },
   "file_extension": ".py",
   "mimetype": "text/x-python",
   "name": "python",
   "nbconvert_exporter": "python",
   "pygments_lexer": "ipython3",
   "version": "3.10.13"
  },
  "orig_nbformat": 4,
  "vscode": {
   "interpreter": {
    "hash": "e879d77b0e1622e7813ab315410840da24c96efb18cee0473b2e1aa1350c8176"
   }
  }
 },
 "nbformat": 4,
 "nbformat_minor": 2
}
